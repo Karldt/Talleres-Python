{
  "cells": [
    {
      "cell_type": "markdown",
      "metadata": {
        "id": "view-in-github",
        "colab_type": "text"
      },
      "source": [
        "<a href=\"https://colab.research.google.com/github/Karldt/Talleres-Python/blob/main/Copia_de_Copia_Taller_1_de_ViveLabPython.ipynb\" target=\"_parent\"><img src=\"https://colab.research.google.com/assets/colab-badge.svg\" alt=\"Open In Colab\"/></a>"
      ]
    },
    {
      "cell_type": "code",
      "execution_count": null,
      "metadata": {
        "colab": {
          "base_uri": "https://localhost:8080/"
        },
        "outputId": "4a2bbe46-90e8-4972-b841-8faf8d074cac",
        "id": "u7kVyIZl7nzf"
      },
      "outputs": [
        {
          "name": "stdout",
          "output_type": "stream",
          "text": [
            "Hola Mundo Cruel.... Aqui estoy en el Kinder de Python\n"
          ]
        }
      ],
      "source": [
        "print(\"Carlos Javier De La Torre R. ...Taller Python ViveLab SENA... \")\n",
        "texto=\"Hola Mundo Cruel.... Aqui estoy en el Kinder de Python\"\n",
        "print(texto)\n",
        "\n"
      ]
    },
    {
      "cell_type": "code",
      "execution_count": null,
      "metadata": {
        "colab": {
          "base_uri": "https://localhost:8080/"
        },
        "outputId": "ae6886d2-1b33-40a1-9d23-4231dbe07d02",
        "id": "ENkBrd3I7nzg"
      },
      "outputs": [
        {
          "name": "stdout",
          "output_type": "stream",
          "text": [
            "Hola Mundoooo...\n"
          ]
        }
      ],
      "source": [
        "print(\"Carlos Javier De La Torre R. ...Taller Python ViveLab SENA... \")\n",
        "print (\"Hola Mundoooo...\")"
      ]
    },
    {
      "cell_type": "code",
      "execution_count": null,
      "metadata": {
        "colab": {
          "base_uri": "https://localhost:8080/"
        },
        "outputId": "34fc1243-a83e-473f-c019-2ab7260812cd",
        "id": "r0kUvp1O7nzg"
      },
      "outputs": [
        {
          "name": "stdout",
          "output_type": "stream",
          "text": [
            "15\n"
          ]
        }
      ],
      "source": [
        "print(\"Carlos Javier De La Torre R. ...Taller Python ViveLab SENA... \")\n",
        "a=10\n",
        "b=5\n",
        "suma=a+b\n",
        "print (suma)"
      ]
    },
    {
      "cell_type": "code",
      "execution_count": null,
      "metadata": {
        "colab": {
          "base_uri": "https://localhost:8080/",
          "height": 130
        },
        "outputId": "e8c125f6-873a-4fe2-dc19-2ee6fd631040",
        "id": "oeR2PFrH7nzg"
      },
      "outputs": [
        {
          "ename": "SyntaxError",
          "evalue": "ignored",
          "output_type": "error",
          "traceback": [
            "\u001b[0;36m  File \u001b[0;32m\"<ipython-input-6-7476b3845f14>\"\u001b[0;36m, line \u001b[0;32m8\u001b[0m\n\u001b[0;31m    match op:\u001b[0m\n\u001b[0m          ^\u001b[0m\n\u001b[0;31mSyntaxError\u001b[0m\u001b[0;31m:\u001b[0m invalid syntax\n"
          ]
        }
      ],
      "source": [
        "print(\"Carlos Javier De La Torre R. ...Taller Python ViveLab SENA... \")\n",
        "print(\"EXPERIMENTO PERSONAL de Carlos Javier .....Menu......\")\n",
        "print(\"====================================\\n\")\n",
        "print(\"1- Area del cuadrado\")\n",
        "print(\"2- Area de la Circunferencia\")\n",
        "\n",
        "op = input(\"Ingrese la opcion: \")\n",
        "\n",
        "match op:\n",
        "  case \"1\": \n",
        "    lado=float(input(\"Ingrese el valor del lado: \"))\n",
        "    Area= lado*lado\n",
        "    print(f\"El Area del Cuadrado es :{Area}\")\n",
        "  case \"2\":\n",
        "    radio=float(input(\"Ingrese el valor del radio: \"))\n",
        "    area=((radio*radio)*(3.1416))\n",
        "    print(f\"El Area de la Circunferencia es :{area}\")\n",
        "  case _:\n",
        "    print(\"sale\")\n"
      ]
    },
    {
      "cell_type": "code",
      "execution_count": null,
      "metadata": {
        "colab": {
          "base_uri": "https://localhost:8080/"
        },
        "outputId": "20258810-f6dd-467b-8421-27cb4b704a14",
        "id": "3q5ymVsD7nzg"
      },
      "outputs": [
        {
          "name": "stdout",
          "output_type": "stream",
          "text": [
            "14\n"
          ]
        }
      ],
      "source": [
        "print(\"Carlos Javier De La Torre R. ...Taller Python ViveLab SENA... \")\n",
        "mensaje1= \"hola queridos Estudiantes\"\n",
        "encontrar=mensaje1.find(\"Estudiantes\")\n",
        "print(encontrar)"
      ]
    },
    {
      "cell_type": "code",
      "execution_count": null,
      "metadata": {
        "colab": {
          "base_uri": "https://localhost:8080/"
        },
        "outputId": "097b164d-6117-4b07-f1ab-57d4d1631990",
        "id": "NQV555Zi7nzg"
      },
      "outputs": [
        {
          "name": "stdout",
          "output_type": "stream",
          "text": [
            "Programa que toma sus datos personales\n",
            "======================================\n",
            "Por favor ingrese su nombre completo: Carlos Javier\n",
            "Por favor ingrese su numero de movil: 301 533 43 37\n",
            "Por favor ingrese su direccion de Residencia: Calle Barranquilla\n",
            "Por favor ingrese su estatura en metros: 1.85\n",
            "Por favor ingrese su edad: 59\n",
            "Muchas Gracias por sus datos Carlos Javier Hasta Pronto ...\n"
          ]
        }
      ],
      "source": [
        "print(\"Carlos Javier De La Torre R. ...Taller Python ViveLab SENA... \")\n",
        "print(\"Programa que toma sus datos personales\")\n",
        "print(\"======================================\")\n",
        "nombre=input(\"Por favor ingrese su nombre completo: \")\n",
        "movil=input(\"Por favor ingrese su numero de movil: \")\n",
        "direccion=input(\"Por favor ingrese su direccion de Residencia: \")\n",
        "estatura= float(input(\"Por favor ingrese su estatura en metros: \"))\n",
        "edad=int(input(\"Por favor ingrese su edad: \"))\n",
        "\n",
        "print(f\"Muchas Gracias por sus datos {nombre} Hasta Pronto ...\")\n"
      ]
    },
    {
      "cell_type": "code",
      "execution_count": null,
      "metadata": {
        "colab": {
          "base_uri": "https://localhost:8080/"
        },
        "outputId": "349a3ad5-9187-46ee-aff3-58a45fb77aa4",
        "id": "4y9EYQHp7nzh"
      },
      "outputs": [
        {
          "name": "stdout",
          "output_type": "stream",
          "text": [
            "=====================================\n",
            "  Programa que suma dos numeros      \n",
            "=====================================\n",
            "\n",
            "Por favor ingrese un numero: 14789\n",
            "Por favor ingrese un numero: 36987\n",
            " La Sumatoria es igual a: 51776\n"
          ]
        }
      ],
      "source": [
        "print(\"Carlos Javier De La Torre R. ...Taller Python ViveLab SENA... \")\n",
        "print(\"=====================================\")\n",
        "print(\"  Programa que suma dos numeros      \")\n",
        "print(\"=====================================\\n\")\n",
        "a=int(input(\"Por favor ingrese un numero: \"))\n",
        "b=int(input(\"Por favor ingrese un numero: \"))\n",
        "suma=a+b\n",
        "suma=str(suma)\n",
        "print(f\" La Sumatoria es igual a: {suma}\")"
      ]
    },
    {
      "cell_type": "code",
      "execution_count": null,
      "metadata": {
        "colab": {
          "base_uri": "https://localhost:8080/"
        },
        "outputId": "a42605c8-5904-424e-edcd-47c23f9f5051",
        "id": "9rGTe8607nzh"
      },
      "outputs": [
        {
          "name": "stdout",
          "output_type": "stream",
          "text": [
            "=======================================\n",
            "          Area Triangulo               \n",
            "=====================================\n",
            "\n",
            "Por favor ingrese su nombre: Carlos Javier\n",
            "Por favor ingrese el Vr de la Base: 14257.45\n",
            "Por favor ingresa el Vr de la Altura: 5578.23\n",
            "Carlos Javier El Area del Triangulo es ...  39765667.66\n"
          ]
        }
      ],
      "source": [
        "print(\"Carlos Javier De La Torre R. ...Taller Python ViveLab SENA... \")\n",
        "print(\"=======================================\")\n",
        "print(\"          Area Triangulo               \")\n",
        "print(\"=====================================\\n\")\n",
        "\n",
        "nombre=input(\"Por favor ingrese su nombre: \")\n",
        "base=float(input(\"Por favor ingrese el Vr de la Base: \"))\n",
        "altura=float(input(\"Por favor ingresa el Vr de la Altura: \"))\n",
        "area=(base*altura)/2\n",
        "str(area)\n",
        "print(f\"{nombre} El Area del Triangulo es ...  {round(area,2)}\")\n",
        "\n"
      ]
    },
    {
      "cell_type": "code",
      "execution_count": null,
      "metadata": {
        "colab": {
          "base_uri": "https://localhost:8080/"
        },
        "outputId": "dfc764ee-b64a-4c51-c582-6372964b394d",
        "id": "2D77fVPG7nzh"
      },
      "outputs": [
        {
          "name": "stdout",
          "output_type": "stream",
          "text": [
            "=======================================\n",
            "          Area del Circulo             \n",
            "=====================================\n",
            "\n",
            "Por favor ingrese su nombre: Carlos Javier\n",
            "Por favor ingrese el Vr del Radio: 154786.5\n",
            "Carlos Javier El Area del Circulo es ...  75269156405.2\n"
          ]
        }
      ],
      "source": [
        "print(\"Carlos Javier De La Torre R. ...Taller Python ViveLab SENA... \")\n",
        "print(\"=======================================\")\n",
        "print(\"          Area del Circulo             \")\n",
        "print(\"=====================================\\n\")\n",
        "\n",
        "nombre=input(\"Por favor ingrese su nombre: \")\n",
        "radio=float(input(\"Por favor ingrese el Vr del Radio: \"))\n",
        "\n",
        "areacirculo= 3.1416*(radio*radio)\n",
        "str(areacirculo)\n",
        "print(f\"{nombre} El Area del Circulo es ...  {round(areacirculo,2)}\")\n",
        "\n"
      ]
    },
    {
      "cell_type": "code",
      "execution_count": null,
      "metadata": {
        "colab": {
          "base_uri": "https://localhost:8080/"
        },
        "outputId": "e20e94b3-c49f-4c31-953e-8e4ad17f4568",
        "id": "5c7PlUr77nzh"
      },
      "outputs": [
        {
          "name": "stdout",
          "output_type": "stream",
          "text": [
            "===========================================================\n",
            " Ejercicio de Condicionales Programa que indica El Clima   \n",
            "=========================================================\n",
            "\n",
            "Por favor ingrese nombre de La Ciudad : Ibague\n",
            "Por favor ingrese los Grados Celsius de Temperatura : 29\n",
            "El Clima de La Ciudad Ibague es Templado...\n"
          ]
        }
      ],
      "source": [
        "print(\"Carlos Javier De La Torre R. ...Taller Python ViveLab SENA... \")\n",
        "print(\"===================================================================\")\n",
        "print(\" Ejercicio de Condicionales IF-ELSE Programa que indica El Clima   \")\n",
        "print(\"=================================================================\\n\")\n",
        "\n",
        "nombreCiudad=input(\"Por favor ingrese nombre de La Ciudad : \")\n",
        "temperatura=float(input(\"Por favor ingrese los Grados Celsius de Temperatura : \"))\n",
        "\n",
        "if temperatura <=20:\n",
        "  print(f\"El Clima de La Ciudad {nombreCiudad} es FRIOOOO... \")\n",
        "else:\n",
        "  print(f\"El Clima de La Ciudad {nombreCiudad} es Templado...\")\n"
      ]
    },
    {
      "cell_type": "code",
      "execution_count": null,
      "metadata": {
        "colab": {
          "base_uri": "https://localhost:8080/"
        },
        "outputId": "c2c31e43-b3aa-434d-8cd1-0bfdd609729d",
        "id": "3kQk79Wt7nzh"
      },
      "outputs": [
        {
          "name": "stdout",
          "output_type": "stream",
          "text": [
            "=======================================================================\n",
            " Ejercicio de Condicionales ELIF- ELSE  Programa que indica El Clima   \n",
            "=====================================================================\n",
            "\n",
            "Por favor ingrese nombre de La Ciudad : Ibague\n",
            "Por favor ingrese los Grados Celsius de Temperatura : 30\n",
            "El Clima de La Ciudad Ibague es Caliente...\n"
          ]
        }
      ],
      "source": [
        "print(\"Carlos Javier De La Torre R. ...Taller Python ViveLab SENA... \")\n",
        "print(\"=======================================================================\")\n",
        "print(\" Ejercicio de Condicionales ELIF- ELSE  Programa que indica El Clima   \")\n",
        "print(\"=====================================================================\\n\")\n",
        "\n",
        "nombreCiudad=input(\"Por favor ingrese nombre de La Ciudad : \")\n",
        "temperatura=float(input(\"Por favor ingrese los Grados Celsius de Temperatura : \"))\n",
        "\n",
        "if temperatura <=20:\n",
        "  print(f\"El Clima de La Ciudad {nombreCiudad} es FRIOOOO... \")\n",
        "elif temperatura >=20 and temperatura <=27:\n",
        "  print(f\"El Clima de La Ciudad {nombreCiudad} es Templado...\")\n",
        "elif temperatura >=30:\n",
        "  print(f\"El Clima de La Ciudad {nombreCiudad} es Caliente...\")\n",
        "else:\n",
        "  print(\"Esos es Todo en cuanto al Clima\")\n"
      ]
    },
    {
      "cell_type": "code",
      "execution_count": null,
      "metadata": {
        "colab": {
          "base_uri": "https://localhost:8080/"
        },
        "outputId": "c378d996-7896-4d5d-cfe9-f66c99095b5c",
        "id": "GpDxrYNp7nzh"
      },
      "outputs": [
        {
          "name": "stdout",
          "output_type": "stream",
          "text": [
            "=======================================================================\n",
            "       Ejercicio de Condicionales PARA PRESENTAR UN MENU               \n",
            "=======================================================================\n",
            "\n",
            "1- Suma \n",
            "2- Resta \n",
            "3- Multiplicacion \n",
            "4- Division \n",
            "0- Salir del Programa \n",
            "\n",
            "Por favor ingrese la Opcion: 2\n",
            "\n",
            "Ha elejido la Opcion para realizar una Resta de dos Numeros\n",
            "Por fvor ingrese un Numero : 11\n",
            "Por fvor ingrese un Numero : 22\n",
            "La Sustraccion es igual a -11.0\n"
          ]
        }
      ],
      "source": [
        "print(\"Carlos Javier De La Torre R. ...Taller Python ViveLab SENA... \")\n",
        "print(\"=======================================================================\")\n",
        "print(\"       Ejercicio de Condicionales PARA PRESENTAR UN MENU               \")\n",
        "print(\"=======================================================================\\n\")\n",
        "print(\"1- Suma \")\n",
        "print(\"2- Resta \")\n",
        "print(\"3- Multiplicacion \")\n",
        "print(\"4- Division \")\n",
        "print(\"0- Salir del Programa \")\n",
        "print()\n",
        "op=int(input(\"Por favor ingrese la Opcion: \"))\n",
        "print()\n",
        "if op==1:\n",
        "  print(\"Ha elejido la Opcion para realizar una Suma de dos Numeros\")\n",
        "  a=float(input(\"Por fvor ingrese un Numero : \"))\n",
        "  b=float(input(\"Por fvor ingrese un Numero : \"))\n",
        "  sumatoria = a+b\n",
        "  print(f\"La Sumatoria es igual a {sumatoria}\")\n",
        "\n",
        "elif op==2:\n",
        "  print(\"Ha elejido la Opcion para realizar una Resta de dos Numeros\")\n",
        "  a=float(input(\"Por fvor ingrese un Numero : \"))\n",
        "  b=float(input(\"Por fvor ingrese un Numero : \"))\n",
        "  sustraccion = a-b\n",
        "  print(f\"La Sustraccion es igual a {sustraccion}\")\n",
        "elif op==3:\n",
        "  print(\"Ha elejido la Opcion para realizar una Multiplicacion de dos Numeros\")\n",
        "  a=float(input(\"Por fvor ingrese un Numero : \"))\n",
        "  b=float(input(\"Por fvor ingrese un Numero : \"))\n",
        "  producto = a*b\n",
        "  print(f\"El Producto  es igual a {producto}\")\n",
        "elif op==4:\n",
        "  print(\"Ha elejido la Opcion para realizar una Division de dos Numeros\")\n",
        "  a=float(input(\"Por fvor ingrese un Numero : \"))\n",
        "  b=float(input(\"Por fvor ingrese un Numero : \"))\n",
        "  cociente = a/b\n",
        "  print(f\"El Cociente  es igual a {cociente}\")\n",
        "elif op==0:\n",
        "  print(\"Gracias por usar este Programita...\")\n",
        "  exit"
      ]
    },
    {
      "cell_type": "code",
      "execution_count": null,
      "metadata": {
        "colab": {
          "base_uri": "https://localhost:8080/"
        },
        "outputId": "0f5b396e-4e75-4c70-d6f4-013eabefc598",
        "id": "YwYqNZ6A7nzi"
      },
      "outputs": [
        {
          "output_type": "stream",
          "name": "stdout",
          "text": [
            "Carlos Javier De La Torre R. ...Taller Python ViveLab SENA... \n",
            "=======================================================================\n",
            "       Bienvenido al Sistema Calculo de Vacaciones la Tumbadora Fija   \n",
            "=======================================================================\n",
            "\n",
            "=========================================================================\n",
            "1- Atencion al Cliente \n",
            "2- Logistica \n",
            "3- Gerencia \n",
            "0- Salir del Programa \n",
            "\n",
            "=========================================================================\n",
            "Ingrese el Nombre del Empleado: Carlos Javier\n",
            "Ingrese Antiguedad en años: 15\n",
            "=========================================================================\n",
            "Ingrese El Codigo del Departamento: 3\n",
            "Emplead@ es de Gerencia\n",
            "Antiguedad 15 Años, sus Vacaciones son: 30 dias\n"
          ]
        }
      ],
      "source": [
        "print(\"Carlos Javier De La Torre R. ...Taller Python ViveLab SENA... \")\n",
        "print(\"=======================================================================\")\n",
        "print(\"       Bienvenido al Sistema Calculo de Vacaciones la Tumbadora Fija   \")\n",
        "print(\"=======================================================================\\n\")\n",
        "print(\"=========================================================================\")\n",
        "print(\"1- Atencion al Cliente \")\n",
        "print(\"2- Logistica \")\n",
        "print(\"3- Gerencia \")\n",
        "print(\"0- Salir del Programa \")\n",
        "print()\n",
        "print(\"=========================================================================\")\n",
        "nombre=input(\"Ingrese el Nombre del Empleado: \")\n",
        "años=int(input(\"Ingrese Antiguedad en años: \"))\n",
        "print(\"=========================================================================\")\n",
        "op=int(input(\"Ingrese El Codigo del Departamento: \"))\n",
        "if op==0 or op>3:\n",
        "  print(\"Por favor ingrese una Opcion entre 1 y 3 \")\n",
        "elif op==1:\n",
        "  print(\"Emplead@ es de Atencion al Ciente\")\n",
        "  if años==1:\n",
        "    diasVacAtencionCliente=6\n",
        "    print(f\"Antiguedad {años } Años, sus Vacaciones son: {diasVacAtencionCliente} dias\")\n",
        "  elif años >=2 and años <=6:\n",
        "    diasVacAtencionCliente=14\n",
        "    print(f\"Antiguedad {años } Años, sus Vacaciones son: {diasVacAtencionCliente} dias\")\n",
        "  elif años >=7:\n",
        "    diasVacAtencionCliente=20\n",
        "    print(f\"Antiguedad {años } Años, sus Vacaciones son: {diasVacAtencionCliente} dias\")\n",
        "elif op==2:\n",
        "    print(\"Emplead@ es de Logistica\")\n",
        "    if años==1:\n",
        "      diasVacAtencionCliente=7\n",
        "      print(f\"Antiguedad {años } Años, sus Vacaciones son: {diasVacAtencionCliente} dias\")\n",
        "    elif años >=2 and años <=6:\n",
        "      diasVacAtencionCliente=15\n",
        "      print(f\"Antiguedad {años } Años, sus Vacaciones son: {diasVacAtencionCliente} dias\")\n",
        "    elif años >=7:\n",
        "      diasVacAtencionCliente=22\n",
        "      print(f\"Antiguedad {años } Años, sus Vacaciones son: {diasVacAtencionCliente} dias\")\n",
        "elif op==3:\n",
        "    print(\"Emplead@ es de Gerencia\")\n",
        "    if años==1:\n",
        "      diasVacAtencionCliente=10\n",
        "      print(f\"Antiguedad {años } Años, sus Vacaciones son: {diasVacAtencionCliente} dias\")\n",
        "    elif años >=2 and años <=6:\n",
        "      diasVacAtencionCliente=20\n",
        "      print(f\"Antiguedad {años } Años, sus Vacaciones son: {diasVacAtencionCliente} dias\")\n",
        "    elif años >=7:\n",
        "      diasVacAtencionCliente=30\n",
        "      print(f\"Antiguedad {años } Años, sus Vacaciones son: {diasVacAtencionCliente} dias\")\n",
        "elif op==4:\n",
        "  print(\"Gracias por usar este Programita... Bye\")\n",
        "  exit\n",
        "\n"
      ]
    },
    {
      "cell_type": "code",
      "source": [
        "print(\"Carlos Javier De La Torre R. ...Taller Python ViveLab SENA... \")\n",
        "print(\"=======================================================================\")\n",
        "print(\"       Ejercicio de PROMEDIO DE ESTUDIANTE VIVELAB-SENA                \")\n",
        "print(\"=======================================================================\\n\")\n",
        "nombreEstudiante= input(\"Por favor ingrese El Nombre del Estudiante: \")\n",
        "print(\" Notas del Estudiante \")\n",
        "matematicas=float(input(\"Por favor ingrese la Nota de Matematicas: \"))\n",
        "ciencias=float(input(\"Por favor ingrese la Nota de Ciencias...: \"))\n",
        "geografia=float(input(\"Por favor ingrese la Nota de Geografia..: \"))\n",
        "informatica=float(input(\"Por favor ingrese la Nota de Informatica: \"))\n",
        "print()\n",
        "promedio=(matematicas+ciencias+geografia+informatica)/4\n",
        "if promedio >= 3.5:\n",
        "    print(f\"Su promedio {nombreEstudiante} es de {round(promedio,2)} Felicitaciones..!!! :-) APROBÓ el Curso\")\n",
        "else:\n",
        "    print(f\"Su promedio {nombreEstudiante} es de {round(promedio,2)} Lamentablemente :-( NO aprobó el Curso\")\n",
        "    print()\n",
        "print(\"Gracias por usar este Programita \")\n",
        "print()\n",
        "exit\n"
      ],
      "metadata": {
        "colab": {
          "base_uri": "https://localhost:8080/"
        },
        "outputId": "3cfebe37-3f5a-4d48-af27-26e5c41c872d",
        "id": "WDsYNPBr7nzi"
      },
      "execution_count": null,
      "outputs": [
        {
          "output_type": "stream",
          "name": "stdout",
          "text": [
            "=======================================================================\n",
            "       Ejercicio de PROMEDIO DE ESTUDIANTE VIVELAB-SENA                \n",
            "=======================================================================\n",
            "\n",
            "Por favor ingrese El Nombre del Estudiante: Carlos Javier\n",
            " Notas del Estudiante \n",
            "Por favor ingrese la Nota de Matematicas: 5.0\n",
            "Por favor ingrese la Nota de Ciencias...: 4.5\n",
            "Por favor ingrese la Nota de Geografia..: 3.5\n",
            "Por favor ingrese la Nota de Informatica: 5.0\n",
            "\n",
            "Su promedio Carlos Javier es de 4.5 Felicitaciones..!!! :-) APROBÓ el Curso\n",
            "Gracias por usar este Programita \n",
            "\n"
          ]
        },
        {
          "output_type": "execute_result",
          "data": {
            "text/plain": [
              "<IPython.core.autocall.ZMQExitAutocall at 0x7f734fb6a340>"
            ]
          },
          "metadata": {},
          "execution_count": 22
        }
      ]
    },
    {
      "cell_type": "code",
      "source": [
        "print(\"Carlos Javier De La Torre R. ...Taller Python ViveLab SENA... \")\n",
        "print(\"=======================================================================\")\n",
        "print(\"       Ejercicio de Condicionales COMPARACION ENTRE NUMEROS            \")\n",
        "print(\"=======================================================================\\n\")\n",
        "print()\n",
        "nombre=input(\"Por favor ingrese su Nombre: \")\n",
        "print()\n",
        "num1=float(input(\"Por favor ingrese El Primer  Numero: \"))\n",
        "num2=float(input(\"Por favor ingrese El Segundo Numero: \"))\n",
        "print()\n",
        "if num1==num2:\n",
        "  print(f\"Los numeros {num1} y {num2} SON IGUALES\")\n",
        "elif num1>num2:\n",
        "  print(f\"El Numero {num1} es MAYOR que el Numero {num2}\")\n",
        "elif num1<num2:\n",
        "  print(f\"El Numero {num1} es MENOR que el Numero {num2}\")\n",
        "else:\n",
        "  print()\n",
        "  print(\"Gracias por usar este Programita...Bye\")\n",
        "exit\n"
      ],
      "metadata": {
        "colab": {
          "base_uri": "https://localhost:8080/"
        },
        "outputId": "fb0db0a1-2f52-4dcb-bd06-bd6058d17f87",
        "id": "z7Vuk4GT7nzi"
      },
      "execution_count": null,
      "outputs": [
        {
          "output_type": "stream",
          "name": "stdout",
          "text": [
            "=======================================================================\n",
            "       Ejercicio de Condicionales COMPARACION ENTRE NUMEROS            \n",
            "=======================================================================\n",
            "\n",
            "\n",
            "Por favor ingrese su Nombre: Carlos Javier\n",
            "\n",
            "Por favor ingrese El Primer  Numero: 5\n",
            "Por favor ingrese El Segundo Numero: 10\n",
            "\n",
            "El Numero 5.0 es MENOR que el Numero 10.0\n"
          ]
        },
        {
          "output_type": "execute_result",
          "data": {
            "text/plain": [
              "<IPython.core.autocall.ZMQExitAutocall at 0x7f734fb6a340>"
            ]
          },
          "metadata": {},
          "execution_count": 26
        }
      ]
    },
    {
      "cell_type": "code",
      "source": [
        "print(\"Carlos Javier De La Torre R. ...Taller Python ViveLab SENA... \")\n",
        "print(\"=======================================================================\")\n",
        "print(\"       Ejercicio de Condicionales SIMULACION FACTURA                   \")\n",
        "print(\"=======================================================================\\n\")\n",
        "print()\n",
        "nombre=input(\"Por favor ingrese su Nombre: \")\n",
        "print()\n",
        "articulo=input(\"Por favor ingrese nombre del Articulo: \")\n",
        "cantidad=int(input(\"Por favor ingrese la Cantidad: \"))\n",
        "vrUnitario=float(input(\"Por favor ingrese Vr Unitario: \"))\n",
        "subTotal=0\n",
        "total=0\n",
        "iva=0.19\n",
        "vrIva=0\n",
        "pago=0\n",
        "if cantidad>0:\n",
        "  cobraIva=input(\"Por favor indique  si aplica IVA(19%) Escriba 's', no aplica escriba'n': \")\n",
        "  if cobraIva==\"s\" or cobraIva==\"S\":\n",
        "    subTotal=(cantidad*vrUnitario)\n",
        "    vrIva=(subTotal*iva)\n",
        "    total=(subTotal+vrIva)\n",
        "    print(f\"Valor a pagar, SubTotal {subTotal} , IVA {vrIva} , TOTAL {total} \")\n",
        "    pago=float(input(\"Por favor digite valor recibido por Caja: \"))\n",
        "    if pago<=total:\n",
        "      print(\"Favor revisar Ingresó menos dinero ...\")\n",
        "      pago=float(input(\"Por favor digite valor recibido por Caja: \"))\n",
        "      cambio=(pago-total)\n",
        "      print(f\"Valor pagado, SubTotal $ {subTotal}\")\n",
        "      print(f\"Valor IVA ............ $ {   vrIva}\")\n",
        "      print(f\"TOTAL .................$ {   total}\")\n",
        "      print(\"----------------------------------------\")\n",
        "      print(f\"Cambio a favor de {nombre}, $ {cambio} \")\n",
        "      print(\"----------------------------------------\")\n",
        "      print(\"Gracias por utilizar este Programita... Bye\")\n",
        "    else:\n",
        "      cambio=(pago-total)\n",
        "      print(f\"Valor pagado, SubTotal $ {subTotal}\")\n",
        "      print(f\"Valor IVA ............ $ {   vrIva}\")\n",
        "      print(f\"TOTAL .................$ {   total}\")\n",
        "      print(\"----------------------------------------\")\n",
        "      print(f\"Cambio a favor de {nombre}, $ {cambio} \")\n",
        "      print(\"----------------------------------------\")\n",
        "      print(\"Gracias por utilizar este Programita... Bye\")\n",
        "\n",
        "  if cobraIva==\"n\" or cobraIva==\"N\":\n",
        "    subTotal=(cantidad*vrUnitario)\n",
        "    print(f\"Valor a pagar SIN IVA, TOTAL {subTotal}\")\n",
        "    pago=float(input(\"Por favor digite valor recibido por Caja: \"))\n",
        "    if pago<=subTotal:\n",
        "      print(\"Favor revisar Ingresó Menos dinero ***\")\n",
        "      pago=float(input(\"Por favor digite valor recibido por Caja: \"))\n",
        "      cambio=(pago-subTotal)\n",
        "      print(f\"Valor pagado, SubTotal $ {subTotal}\")\n",
        "      print(f\"TOTAL .................$ {subTotal}\")\n",
        "      print(\"........................................\")\n",
        "      print(f\"Cambio a favor de {nombre}, $ {cambio} \")\n",
        "      print(\"........................................\")\n",
        "      print(\"Gracias por utilizar este Programita... Bye\")\n",
        "    else:\n",
        "      cambio=(pago-subTotal)\n",
        "      print(f\"Valor pagado, SubTotal $ {subTotal}\")\n",
        "      print(f\"TOTAL .................$ {subTotal}\")\n",
        "      print(\"........................................\")\n",
        "      print(f\"Cambio a favor de {nombre}, $ {cambio} \")\n",
        "      print(\"........................................\")\n",
        "      print(\"Gracias por utilizar este Programita... Bye\")\n",
        "      \n",
        "else:\n",
        "  exit"
      ],
      "metadata": {
        "colab": {
          "base_uri": "https://localhost:8080/"
        },
        "outputId": "a7183e23-3fff-4190-816d-a2c269253d64",
        "id": "nrE87sqQ7nzi"
      },
      "execution_count": null,
      "outputs": [
        {
          "output_type": "stream",
          "name": "stdout",
          "text": [
            "Carlos Javier De La Torre R. ...Taller Python ViveLab SENA... \n",
            "=======================================================================\n",
            "       Ejercicio de Condicionales SIMULACION FACTURA                   \n",
            "=======================================================================\n",
            "\n",
            "\n",
            "Por favor ingrese su Nombre: Carlos Javier\n",
            "\n",
            "Por favor ingrese nombre del Articulo: Dubonet\n",
            "Por favor ingrese la Cantidad: 3\n",
            "Por favor ingrese Vr Unitario: 55000\n",
            "Por favor indique  si aplica IVA(19%) Escriba 's', no aplica escriba'n': s\n",
            "Valor a pagar, SubTotal 165000.0 , IVA 31350.0 , TOTAL 196350.0 \n",
            "Por favor digite valor recibido por Caja: 200000\n",
            "Valor pagado, SubTotal $ 165000.0\n",
            "Valor IVA ............ $ 31350.0\n",
            "TOTAL .................$ 196350.0\n",
            "----------------------------------------\n",
            "Cambio a favor de Carlos Javier, $ 3650.0 \n",
            "----------------------------------------\n",
            "Gracias por utilizar este Programita... Bye\n"
          ]
        }
      ]
    },
    {
      "cell_type": "code",
      "source": [
        "print(\"Carlos Javier De La Torre R. ...Taller Python ViveLab SENA... \")\n",
        "print(\"==========================================================================================\")\n",
        "print(\"Ejercicio de Condicionales PARA PRESENTAR UN MENU CONVERTIR NUMEROS A LETRAS Y VISCEVERSA \")\n",
        "print(\"========================================================================================\\n\")\n",
        "print(\"1- Convertir Numeros a Letras \")\n",
        "print(\"2- Convertir Letras a Numeros \")\n",
        "print(\"0- Salir del Programa \")\n",
        "print()\n",
        "op=int(input(\"Por favor ingrese la Opcion: \"))\n",
        "print()\n",
        "if op==1:\n",
        "  print(\"Ha elejido la Opcion para Convertir de Numeros a Letras \")\n",
        "  a=int(input(\"Por fvor ingrese un Numero : \"))\n",
        "  if a<1 and a>5:\n",
        "    print(\"Por favor ingresar Numero en rango entre 1 hasta 5... \")\n",
        "  elif a==1:\n",
        "    num1=\" UNO \"\n",
        "    print(f\"El numero que ingreso es {a} y en letras es :  {num1}\")\n",
        "  elif a==2:\n",
        "    num2=\" DOS \"\n",
        "    print(f\"El numero que ingreso es {a} y en letras es :  {num2}\")\n",
        "  elif a==3:\n",
        "    num3=\" TRES \"\n",
        "    print(f\"El numero que ingreso es {a} y en letras es :  {num3}\")\n",
        "  elif a==4:\n",
        "    num4=\" CUATRO \"\n",
        "    print(f\"El numero que ingreso es {a} y en letras es :  {num4}\")\n",
        "  elif a==5:\n",
        "    num5=\" CINCO \"\n",
        "    print(f\"El numero que ingreso es {a} y en letras es :  {num5}\")\n",
        "    \n",
        "if op==2:\n",
        "  print(\"Ha elejido la Opcion para Convertir de Letras a NUMEROS \")\n",
        "  b=input(\"Por fvor ingrese en letras el numero en rango de uno a cinco : \")\n",
        "  if b<\"uno\" and b>\"cinco\":\n",
        "    print(\"Por favor ingresar Numero en rango entre 1 hasta 5... \")\n",
        "  elif b==\"uno\":\n",
        "    num1=1\n",
        "    print(f\"El numero que ingreso en letras es {b} y en Numeros es :  {num1}\")\n",
        "  elif b==\"dos\":\n",
        "    num2=2\n",
        "    print(f\"El numero que ingreso en letras es {b} y en Numeros es :  {num2}\")\n",
        "  elif b==\"tres\":\n",
        "    num3=3\n",
        "    print(f\"El numero que ingreso en letras es {b} y en Numeros es :  {num3}\")\n",
        "  elif b==\"cuatro\":\n",
        "    num4=4\n",
        "    print(f\"El numero que ingreso en letras es {b} y en Numero  es :  {num4}\")\n",
        "  elif b==\"cinco\":\n",
        "    num5=5\n",
        "    print(f\"El numero que ingreso en letras es {b} y en Numero es :  {num5}\")\n",
        "  \n",
        "elif op==0:\n",
        "  print(\"Gracias por usar este Programita...\")\n",
        "  exit"
      ],
      "metadata": {
        "colab": {
          "base_uri": "https://localhost:8080/"
        },
        "outputId": "62a047c7-bc97-48c9-cb88-e27ae86f7b7c",
        "id": "eJZoxFA97nzj"
      },
      "execution_count": null,
      "outputs": [
        {
          "output_type": "stream",
          "name": "stdout",
          "text": [
            "Carlos Javier De La Torre R. ...Taller Python ViveLab SENA... \n",
            "==========================================================================================\n",
            "Ejercicio de Condicionales PARA PRESENTAR UN MENU CONVERTIR NUMEROS A LETRAS Y VISCEVERSA \n",
            "========================================================================================\n",
            "\n",
            "1- Convertir Numeros a Letras \n",
            "2- Convertir Letras a Numeros \n",
            "0- Salir del Programa \n",
            "\n",
            "Por favor ingrese la Opcion: 2\n",
            "\n",
            "Ha elejido la Opcion para Convertir de Letras a NUMEROS \n",
            "Por fvor ingrese en letras el numero en rango de uno a cinco : seis\n",
            "Por favor ingresar Numero en rango entre 1 hasta 5... \n"
          ]
        }
      ]
    },
    {
      "cell_type": "code",
      "source": [
        "print(\"Carlos Javier De La Torre R. ...Taller Python ViveLab SENA... \")\n",
        "print(\"=======================================================================\")\n",
        "print(\"       Ejercicio de Condicionales SIMULACION FACTURA                   \")\n",
        "print(\"Utilizando el Codigo compartido por nuestra Instructora Ing.Miryam Gonzalez\")\n",
        "print(\"=======================================================================\\n\")\n",
        "print()\n",
        "\n",
        "while True:  # Una novedad adicional al codigo, es un Ciclo   \n",
        "    print(\"====================================\")\n",
        "    print(\"Programa Calcula valor para Producto\")\n",
        "    print(\"====================================\")\n",
        "    print()\n",
        "    producto=input(\"Ingrese nombre del producto: \")\n",
        "    vrUnitario=float(input(\"Ingrese precio del producto: \"))\n",
        "    cant=float(input(\"Ingrese cantidad a comprar: \"))\n",
        "\n",
        "    if cant != 0:\n",
        "        preiva=input(\"El Producto es gravdo con IVA?? S/N : \")\n",
        "        if preiva == \"S\" or preiva == \"s\":\n",
        "            vrProducto=cant*vrUnitario\n",
        "            iva=vrProducto*0.19\n",
        "        else:\n",
        "            vrProducto=cant*vrUnitario\n",
        "            iva=0\n",
        "        vlrTotalPaga=vrProducto+iva\n",
        "        dineroPaga=float(input(f\"Valor que debes cancelar por Caja $: {vlrTotalPaga}... $\"))\n",
        "        if dineroPaga < vlrTotalPaga:\n",
        "            print(\"El Valor pagado por Caja es menor al adeudado: \")    \n",
        "        else: \n",
        "            dev=dineroPaga-vlrTotalPaga\n",
        "\n",
        "            print(\"El Valor del Producto es.......: \", vrProducto)\n",
        "            print(\"El Valor del IVA es ...........: \", iva)\n",
        "            print(\"El valor a pagar con IVA.......: \", vlrTotalPaga)\n",
        "            print(\"==============================================\")\n",
        "            print(\"El dinero entregado por Caja es: \", dineroPaga)\n",
        "            print(\"==============================================\")\n",
        "            print(\"El valor a devolver Cliente....: \", dev)\n",
        "    else:\n",
        "        print(\"El Valor de la Cantidad de Articulos debe ser Mayor a Cero\")"
      ],
      "metadata": {
        "colab": {
          "base_uri": "https://localhost:8080/",
          "height": 851
        },
        "id": "IqwQCtLTBUHe",
        "outputId": "54bbe506-614b-4763-84c5-c27e24c5e338"
      },
      "execution_count": null,
      "outputs": [
        {
          "output_type": "stream",
          "name": "stdout",
          "text": [
            "Carlos Javier De La Torre R. ...Taller Python ViveLab SENA... \n",
            "=======================================================================\n",
            "       Ejercicio de Condicionales SIMULACION FACTURA                   \n",
            "Utilizando el Codigo compartido por nuestra Instructora Ing.Miryam Gonzalez\n",
            "=======================================================================\n",
            "\n",
            "\n",
            "====================================\n",
            "Programa Calcula valor para Producto\n",
            "====================================\n",
            "\n",
            "Ingrese nombre del producto: Dubonet\n",
            "Ingrese precio del producto: 55000\n",
            "Ingrese cantidad a comprar: 3\n",
            "El Producto es gravdo con IVA?? S/N : s\n",
            "Valor que debes cancelar por Caja $: 196350.0... $200000\n",
            "El Valor del Producto es.......:  165000.0\n",
            "El Valor del IVA es ...........:  31350.0\n",
            "El valor a pagar con IVA.......:  196350.0\n",
            "==============================================\n",
            "El dinero entregado por Caja es:  200000.0\n",
            "==============================================\n",
            "El valor a devolver Cliente....:  3650.0\n",
            "====================================\n",
            "Programa Calcula valor para Producto\n",
            "====================================\n",
            "\n"
          ]
        },
        {
          "output_type": "error",
          "ename": "KeyboardInterrupt",
          "evalue": "ignored",
          "traceback": [
            "\u001b[0;31m---------------------------------------------------------------------------\u001b[0m",
            "\u001b[0;31mKeyboardInterrupt\u001b[0m                         Traceback (most recent call last)",
            "\u001b[0;32m<ipython-input-1-9c710a3e8114>\u001b[0m in \u001b[0;36m<cell line: 9>\u001b[0;34m()\u001b[0m\n\u001b[1;32m     11\u001b[0m     \u001b[0mprint\u001b[0m\u001b[0;34m(\u001b[0m\u001b[0;34m\"====================================\"\u001b[0m\u001b[0;34m)\u001b[0m\u001b[0;34m\u001b[0m\u001b[0;34m\u001b[0m\u001b[0m\n\u001b[1;32m     12\u001b[0m     \u001b[0mprint\u001b[0m\u001b[0;34m(\u001b[0m\u001b[0;34m)\u001b[0m\u001b[0;34m\u001b[0m\u001b[0;34m\u001b[0m\u001b[0m\n\u001b[0;32m---> 13\u001b[0;31m     \u001b[0mproducto\u001b[0m\u001b[0;34m=\u001b[0m\u001b[0minput\u001b[0m\u001b[0;34m(\u001b[0m\u001b[0;34m\"Ingrese nombre del producto: \"\u001b[0m\u001b[0;34m)\u001b[0m\u001b[0;34m\u001b[0m\u001b[0;34m\u001b[0m\u001b[0m\n\u001b[0m\u001b[1;32m     14\u001b[0m     \u001b[0mvrUnitario\u001b[0m\u001b[0;34m=\u001b[0m\u001b[0mfloat\u001b[0m\u001b[0;34m(\u001b[0m\u001b[0minput\u001b[0m\u001b[0;34m(\u001b[0m\u001b[0;34m\"Ingrese precio del producto: \"\u001b[0m\u001b[0;34m)\u001b[0m\u001b[0;34m)\u001b[0m\u001b[0;34m\u001b[0m\u001b[0;34m\u001b[0m\u001b[0m\n\u001b[1;32m     15\u001b[0m     \u001b[0mcant\u001b[0m\u001b[0;34m=\u001b[0m\u001b[0mfloat\u001b[0m\u001b[0;34m(\u001b[0m\u001b[0minput\u001b[0m\u001b[0;34m(\u001b[0m\u001b[0;34m\"Ingrese cantidad a comprar: \"\u001b[0m\u001b[0;34m)\u001b[0m\u001b[0;34m)\u001b[0m\u001b[0;34m\u001b[0m\u001b[0;34m\u001b[0m\u001b[0m\n",
            "\u001b[0;32m/usr/local/lib/python3.9/dist-packages/ipykernel/kernelbase.py\u001b[0m in \u001b[0;36mraw_input\u001b[0;34m(self, prompt)\u001b[0m\n\u001b[1;32m    849\u001b[0m                 \u001b[0;34m\"raw_input was called, but this frontend does not support input requests.\"\u001b[0m\u001b[0;34m\u001b[0m\u001b[0;34m\u001b[0m\u001b[0m\n\u001b[1;32m    850\u001b[0m             )\n\u001b[0;32m--> 851\u001b[0;31m         return self._input_request(str(prompt),\n\u001b[0m\u001b[1;32m    852\u001b[0m             \u001b[0mself\u001b[0m\u001b[0;34m.\u001b[0m\u001b[0m_parent_ident\u001b[0m\u001b[0;34m,\u001b[0m\u001b[0;34m\u001b[0m\u001b[0;34m\u001b[0m\u001b[0m\n\u001b[1;32m    853\u001b[0m             \u001b[0mself\u001b[0m\u001b[0;34m.\u001b[0m\u001b[0m_parent_header\u001b[0m\u001b[0;34m,\u001b[0m\u001b[0;34m\u001b[0m\u001b[0;34m\u001b[0m\u001b[0m\n",
            "\u001b[0;32m/usr/local/lib/python3.9/dist-packages/ipykernel/kernelbase.py\u001b[0m in \u001b[0;36m_input_request\u001b[0;34m(self, prompt, ident, parent, password)\u001b[0m\n\u001b[1;32m    893\u001b[0m             \u001b[0;32mexcept\u001b[0m \u001b[0mKeyboardInterrupt\u001b[0m\u001b[0;34m:\u001b[0m\u001b[0;34m\u001b[0m\u001b[0;34m\u001b[0m\u001b[0m\n\u001b[1;32m    894\u001b[0m                 \u001b[0;31m# re-raise KeyboardInterrupt, to truncate traceback\u001b[0m\u001b[0;34m\u001b[0m\u001b[0;34m\u001b[0m\u001b[0m\n\u001b[0;32m--> 895\u001b[0;31m                 \u001b[0;32mraise\u001b[0m \u001b[0mKeyboardInterrupt\u001b[0m\u001b[0;34m(\u001b[0m\u001b[0;34m\"Interrupted by user\"\u001b[0m\u001b[0;34m)\u001b[0m \u001b[0;32mfrom\u001b[0m \u001b[0;32mNone\u001b[0m\u001b[0;34m\u001b[0m\u001b[0;34m\u001b[0m\u001b[0m\n\u001b[0m\u001b[1;32m    896\u001b[0m             \u001b[0;32mexcept\u001b[0m \u001b[0mException\u001b[0m \u001b[0;32mas\u001b[0m \u001b[0me\u001b[0m\u001b[0;34m:\u001b[0m\u001b[0;34m\u001b[0m\u001b[0;34m\u001b[0m\u001b[0m\n\u001b[1;32m    897\u001b[0m                 \u001b[0mself\u001b[0m\u001b[0;34m.\u001b[0m\u001b[0mlog\u001b[0m\u001b[0;34m.\u001b[0m\u001b[0mwarning\u001b[0m\u001b[0;34m(\u001b[0m\u001b[0;34m\"Invalid Message:\"\u001b[0m\u001b[0;34m,\u001b[0m \u001b[0mexc_info\u001b[0m\u001b[0;34m=\u001b[0m\u001b[0;32mTrue\u001b[0m\u001b[0;34m)\u001b[0m\u001b[0;34m\u001b[0m\u001b[0;34m\u001b[0m\u001b[0m\n",
            "\u001b[0;31mKeyboardInterrupt\u001b[0m: Interrupted by user"
          ]
        }
      ]
    },
    {
      "cell_type": "code",
      "source": [
        "print(\"Carlos Javier De La Torre R. Taller Python ViveLab SENA\")\n",
        "print(\"=========================================\")\n",
        "print(\"CAPITULO DE CICLOS - CILCO FOR           \")\n",
        "print(\"=========================================\")\n",
        "\n",
        "for i in range(10+1):\n",
        "  print(f\"Elemento en su orden...{i}\")"
      ],
      "metadata": {
        "colab": {
          "base_uri": "https://localhost:8080/"
        },
        "id": "Y9jH89pL00qH",
        "outputId": "9990bf64-f0a3-4b93-bef4-513b46dd0a0e"
      },
      "execution_count": 9,
      "outputs": [
        {
          "output_type": "stream",
          "name": "stdout",
          "text": [
            "Carlos Javier De La Torre R. Taller Python ViveLab SENA\n",
            "=========================================\n",
            "CAPITULO DE CICLOS - CILCO FOR           \n",
            "=========================================\n",
            "Elemento en su orden...0\n",
            "Elemento en su orden...1\n",
            "Elemento en su orden...2\n",
            "Elemento en su orden...3\n",
            "Elemento en su orden...4\n",
            "Elemento en su orden...5\n",
            "Elemento en su orden...6\n",
            "Elemento en su orden...7\n",
            "Elemento en su orden...8\n",
            "Elemento en su orden...9\n",
            "Elemento en su orden...10\n"
          ]
        }
      ]
    },
    {
      "cell_type": "code",
      "source": [
        "print(\"Carlos Javier De La Torre R. Taller Python ViveLab SENA\")\n",
        "print(\"=========================================\")\n",
        "print(\"CAPITULO DE CICLOS - CILCO FOR           \")\n",
        "print(\"=========================================\")\n",
        "\n",
        "for i in range(10):\n",
        "  print(f\"... {i}\", end='')"
      ],
      "metadata": {
        "colab": {
          "base_uri": "https://localhost:8080/"
        },
        "id": "WRpJkGJD5ANu",
        "outputId": "939bdb31-36f3-4ab1-f6a6-a6a25f53b159"
      },
      "execution_count": 5,
      "outputs": [
        {
          "output_type": "stream",
          "name": "stdout",
          "text": [
            "Carlos Javier De La Torre R. Taller Python ViveLab SENA\n",
            "=========================================\n",
            "CAPITULO DE CICLOS - CILCO FOR           \n",
            "=========================================\n",
            "... 0... 1... 2... 3... 4... 5... 6... 7... 8... 9"
          ]
        }
      ]
    },
    {
      "cell_type": "code",
      "source": [
        "print(\"Carlos Javier De La Torre R. Taller Python ViveLab SENA\")\n",
        "print(\"=========================================\")\n",
        "print(\"CAPITULO DE CICLOS - CILCO FOR           \")\n",
        "print(\"=========================================\")\n",
        "\n",
        "numeros=[5,8,7,9,12,13]\n",
        "for i in numeros:\n",
        "    print(f\"Elemento Lista es  :  {i}\")\n",
        "print(\"Fin del Ciclo FOR \")"
      ],
      "metadata": {
        "colab": {
          "base_uri": "https://localhost:8080/"
        },
        "id": "jXuM_rqF55Wk",
        "outputId": "e928537f-1b59-4531-e792-4e5d7bb5e0ab"
      },
      "execution_count": 37,
      "outputs": [
        {
          "output_type": "stream",
          "name": "stdout",
          "text": [
            "Carlos Javier De La Torre R. Taller Python ViveLab SENA\n",
            "=========================================\n",
            "CAPITULO DE CICLOS - CILCO FOR           \n",
            "=========================================\n",
            "Elemento Lista es  :  5\n",
            "Elemento Lista es  :  8\n",
            "Elemento Lista es  :  7\n",
            "Elemento Lista es  :  9\n",
            "Elemento Lista es  :  12\n",
            "Elemento Lista es  :  13\n",
            "Fin del Ciclo FOR \n"
          ]
        }
      ]
    },
    {
      "cell_type": "code",
      "source": [
        "print(\"Carlos Javier De La Torre R. Taller Python ViveLab SENA\")\n",
        "print(\"=========================================\")\n",
        "print(\"CAPITULO DE CICLOS - CILCO FOR           \")\n",
        "print(\"=========================================\")\n",
        "\n",
        "for elemento in [5,8,7,9,12,13]:\n",
        "    print(f\"Elemento Lista es: {elemento} \",end='')\n",
        "print(\"Fin del Ciclo FOR\")"
      ],
      "metadata": {
        "colab": {
          "base_uri": "https://localhost:8080/"
        },
        "id": "HPYB-Bjt6u0f",
        "outputId": "0942e8c2-60b7-4580-b6a3-8e0a9c58d64c"
      },
      "execution_count": 22,
      "outputs": [
        {
          "output_type": "stream",
          "name": "stdout",
          "text": [
            "Carlos Javier De La Torre R. Taller Python ViveLab SENA\n",
            "=========================================\n",
            "CAPITULO DE CICLOS - CILCO FOR           \n",
            "=========================================\n",
            "Elemento Lista es: 5 Elemento Lista es: 8 Elemento Lista es: 7 Elemento Lista es: 9 Elemento Lista es: 12 Elemento Lista es: 13 Fin del Ciclo FOR\n"
          ]
        }
      ]
    },
    {
      "cell_type": "code",
      "source": [
        "print(\"Carlos Javier De La Torre R. Taller Python ViveLab SENA\")\n",
        "print(\"=========================================\")\n",
        "print(\"CAPITULO DE CICLOS - CILCO FOR           \")\n",
        "print(\"=========================================\")\n",
        "\n",
        "for elemento in [5,8,7,9,12,13]:\n",
        "    print(f\"Elemento: {elemento} \",end='')\n",
        "print()\n",
        "print(\"Fin del Ciclo FOR\", end='')"
      ],
      "metadata": {
        "colab": {
          "base_uri": "https://localhost:8080/"
        },
        "id": "wKCAavMw7auE",
        "outputId": "4cfbbba1-4be4-4718-88d0-64b852470cd9"
      },
      "execution_count": 32,
      "outputs": [
        {
          "output_type": "stream",
          "name": "stdout",
          "text": [
            "Carlos Javier De La Torre R. Taller Python ViveLab SENA\n",
            "=========================================\n",
            "CAPITULO DE CICLOS - CILCO FOR           \n",
            "=========================================\n",
            "Elemento: 5 Elemento: 8 Elemento: 7 Elemento: 9 Elemento: 12 Elemento: 13 \n",
            "Fin del Ciclo FOR"
          ]
        }
      ]
    },
    {
      "cell_type": "code",
      "source": [
        "print(\"Carlos Javier De La Torre R. Taller Python ViveLab SENA\")\n",
        "print(\"=========================================\")\n",
        "print(\"CAPITULO DE CICLOS - CILCO FOR           \")\n",
        "print(\"=========================================\")\n",
        "\n",
        "for elemento in [0,1,10,3,8]:\n",
        "    print(f\"SENA\",\",\",\"Espinal \")\n",
        "print()\n",
        "print(\"Fin del Ciclo FOR\")"
      ],
      "metadata": {
        "colab": {
          "base_uri": "https://localhost:8080/"
        },
        "id": "uz7lm3Dt7731",
        "outputId": "3614de27-b8f3-4ec6-c84d-08330486751a"
      },
      "execution_count": 30,
      "outputs": [
        {
          "output_type": "stream",
          "name": "stdout",
          "text": [
            "Carlos Javier De La Torre R. Taller Python ViveLab SENA\n",
            "=========================================\n",
            "CAPITULO DE CICLOS - CILCO FOR           \n",
            "=========================================\n",
            "SENA , Espinal \n",
            "SENA , Espinal \n",
            "SENA , Espinal \n",
            "SENA , Espinal \n",
            "SENA , Espinal \n",
            "\n",
            "Fin del Ciclo FOR\n"
          ]
        }
      ]
    },
    {
      "cell_type": "code",
      "source": [
        "print(\"Carlos Javier De La Torre R. Taller Python ViveLab SENA\")\n",
        "print(\"=========================================\")\n",
        "print(\"CAPITULO DE CICLOS - CILCO FOR           \")\n",
        "print(\"=========================================\")\n",
        "\n",
        "for elemento in [0,1,10,3,8]:\n",
        "    print(f\"SENA\",\",\",\"Espinal \",end='-')\n",
        "print()\n",
        "print(\"Fin del Ciclo FOR\")"
      ],
      "metadata": {
        "colab": {
          "base_uri": "https://localhost:8080/"
        },
        "id": "eRT2Oo8r9YFD",
        "outputId": "0e7463b0-60bb-4ee0-c264-b1547383b8b1"
      },
      "execution_count": 33,
      "outputs": [
        {
          "output_type": "stream",
          "name": "stdout",
          "text": [
            "Carlos Javier De La Torre R. Taller Python ViveLab SENA\n",
            "=========================================\n",
            "CAPITULO DE CICLOS - CILCO FOR           \n",
            "=========================================\n",
            "SENA , Espinal -SENA , Espinal -SENA , Espinal -SENA , Espinal -SENA , Espinal -\n",
            "Fin del Ciclo FOR\n"
          ]
        }
      ]
    },
    {
      "cell_type": "code",
      "source": [
        "print(\"Carlos Javier De La Torre R. Taller Python ViveLab SENA\")\n",
        "print(\"=========================================\")\n",
        "print(\"CAPITULO DE CICLOS - CILCO FOR           \")\n",
        "print(\"=========================================\")\n",
        "\n",
        "for diasSemana in ['Lunes','Martes','Miercoles','Jueves','Viernes','Sabado','Domingo']:\n",
        "    print(f\" {diasSemana}\",end='-')\n",
        "print()\n",
        "print(\"Fin del Ciclo FOR\")"
      ],
      "metadata": {
        "colab": {
          "base_uri": "https://localhost:8080/"
        },
        "id": "sAlgNHiF_zv0",
        "outputId": "e5b585d0-47d7-4100-a478-81b338781729"
      },
      "execution_count": 41,
      "outputs": [
        {
          "output_type": "stream",
          "name": "stdout",
          "text": [
            "Carlos Javier De La Torre R. Taller Python ViveLab SENA\n",
            "=========================================\n",
            "CAPITULO DE CICLOS - CILCO FOR           \n",
            "=========================================\n",
            " Lunes- Martes- Miercoles- Jueves- Viernes- Sabado- Domingo-\n",
            "Fin del Ciclo FOR\n"
          ]
        }
      ]
    },
    {
      "cell_type": "code",
      "source": [
        "print(\"Carlos Javier De La Torre R. Taller Python ViveLab SENA\")\n",
        "print(\"=========================================\")\n",
        "print(\"CAPITULO DE CICLOS - CILCO FOR           \")\n",
        "print(\"=========================================\")\n",
        "\n",
        "for diasSemana in ['Lunes','Martes','Miercoles','Jueves','Viernes','Sabado','Domingo']:\n",
        "    print(f\" {diasSemana}\")\n",
        "print()\n",
        "print(\"Fin del Ciclo FOR\")"
      ],
      "metadata": {
        "colab": {
          "base_uri": "https://localhost:8080/"
        },
        "id": "V1vtRo1SA7Ke",
        "outputId": "71a4dd1d-f6ab-453b-a10f-25a8ef0da515"
      },
      "execution_count": 42,
      "outputs": [
        {
          "output_type": "stream",
          "name": "stdout",
          "text": [
            "Carlos Javier De La Torre R. Taller Python ViveLab SENA\n",
            "=========================================\n",
            "CAPITULO DE CICLOS - CILCO FOR           \n",
            "=========================================\n",
            " Lunes\n",
            " Martes\n",
            " Miercoles\n",
            " Jueves\n",
            " Viernes\n",
            " Sabado\n",
            " Domingo\n",
            "\n",
            "Fin del Ciclo FOR\n"
          ]
        }
      ]
    },
    {
      "cell_type": "code",
      "source": [
        "print(\"Carlos Javier De La Torre R. Taller Python ViveLab SENA\")\n",
        "print(\"=========================================\")\n",
        "print(\"CAPITULO DE CICLOS - CILCO FOR           \")\n",
        "print(\"=========================================\")\n",
        "\n",
        "numeros=[2,5,3,4,1]\n",
        "for elemento in numeros:\n",
        "  x=(elemento*2)+(elemento+1)\n",
        "  print(\"(\",elemento, \"*\", x, \")\",end='')\n",
        "print(\"Fin del Ciclo FOR \")"
      ],
      "metadata": {
        "colab": {
          "base_uri": "https://localhost:8080/"
        },
        "id": "GCwY3xzyEOsj",
        "outputId": "796e1b04-a0ea-4828-bcd5-0bff18a21227"
      },
      "execution_count": 46,
      "outputs": [
        {
          "output_type": "stream",
          "name": "stdout",
          "text": [
            "Carlos Javier De La Torre R. Taller Python ViveLab SENA\n",
            "=========================================\n",
            "CAPITULO DE CICLOS - CILCO FOR           \n",
            "=========================================\n",
            "( 2 * 7 )( 5 * 16 )( 3 * 10 )( 4 * 13 )( 1 * 4 )Fin del Ciclo FOR \n"
          ]
        }
      ]
    },
    {
      "cell_type": "code",
      "source": [
        "print(\"Carlos Javier De La Torre R. Taller Python ViveLab SENA\")\n",
        "print(\"=========================================\")\n",
        "print(\"CAPITULO DE CICLOS - CILCO FOR           \")\n",
        "print(\"=========================================\")\n",
        "\n",
        "for i in range(5):\n",
        "  print(i,\",\",end='')\n",
        "print(\"Fin del Ciclo FOR \")"
      ],
      "metadata": {
        "colab": {
          "base_uri": "https://localhost:8080/"
        },
        "id": "BDUIVIPcGJ1D",
        "outputId": "459eb83d-454c-4c66-e0a8-660b77a4fc9d"
      },
      "execution_count": 52,
      "outputs": [
        {
          "output_type": "stream",
          "name": "stdout",
          "text": [
            "Carlos Javier De La Torre R. Taller Python ViveLab SENA\n",
            "=========================================\n",
            "CAPITULO DE CICLOS - CILCO FOR           \n",
            "=========================================\n",
            "0 ,1 ,2 ,3 ,4 ,Fin del Ciclo FOR \n"
          ]
        }
      ]
    },
    {
      "cell_type": "code",
      "source": [
        "print(\"Carlos Javier De La Torre R. Taller Python ViveLab SENA\")\n",
        "print(\"=========================================\")\n",
        "print(\"CAPITULO DE CICLOS - CILCO FOR           \")\n",
        "print(\"=========================================\")\n",
        "\n",
        "for i in range(10,15):\n",
        "  print(i,\",\",end='')\n",
        "print(\"Fin del Ciclo FOR \")"
      ],
      "metadata": {
        "colab": {
          "base_uri": "https://localhost:8080/"
        },
        "id": "6mrNTHEAHgKB",
        "outputId": "535dbc14-ec2c-403d-eee8-2393206f5c92"
      },
      "execution_count": 54,
      "outputs": [
        {
          "output_type": "stream",
          "name": "stdout",
          "text": [
            "Carlos Javier De La Torre R. Taller Python ViveLab SENA\n",
            "=========================================\n",
            "CAPITULO DE CICLOS - CILCO FOR           \n",
            "=========================================\n",
            "10 ,11 ,12 ,13 ,14 ,Fin del Ciclo FOR \n"
          ]
        }
      ]
    },
    {
      "cell_type": "code",
      "source": [
        "print(\"Carlos Javier De La Torre R. Taller Python ViveLab SENA\")\n",
        "print(\"=========================================\")\n",
        "print(\"CAPITULO DE CICLOS - CILCO FOR           \")\n",
        "print(\"=========================================\")\n",
        "ini=int(input(\" Ingrese el numero inicial: \"))\n",
        "fin=int(input(\" Ingrese el numero final: \"))\n",
        "for i in range(ini,fin):\n",
        "  print(i,\",\",end='')\n",
        "print(\"Fin del Ciclo FOR \")"
      ],
      "metadata": {
        "colab": {
          "base_uri": "https://localhost:8080/"
        },
        "id": "3CQcMmjeHw4J",
        "outputId": "21131f00-0dcd-480e-c782-2c36f4d0805f"
      },
      "execution_count": 55,
      "outputs": [
        {
          "output_type": "stream",
          "name": "stdout",
          "text": [
            "Carlos Javier De La Torre R. Taller Python ViveLab SENA\n",
            "=========================================\n",
            "CAPITULO DE CICLOS - CILCO FOR           \n",
            "=========================================\n",
            " Ingrese el numero inicial: 1\n",
            " Ingrese el numero final: 21\n",
            "1 ,2 ,3 ,4 ,5 ,6 ,7 ,8 ,9 ,10 ,11 ,12 ,13 ,14 ,15 ,16 ,17 ,18 ,19 ,20 ,Fin del Ciclo FOR \n"
          ]
        }
      ]
    },
    {
      "cell_type": "code",
      "source": [
        "print(\"Carlos Javier De La Torre R. Taller Python ViveLab SENA\")\n",
        "print(\"=========================================\")\n",
        "print(\"CAPITULO DE CICLOS - CILCO FOR           \")\n",
        "print(\"=========================================\")\n",
        "n=int(input(\" Ingrese la Tabla de Multiplicar: \"))\n",
        "print(\"Tabla de Multiplicar de : \",n)\n",
        "for i in range(1,11):\n",
        "  print(n,\"*\",i,\"=\",i*n)\n",
        "print(\"Fin del Ciclo FOR \")"
      ],
      "metadata": {
        "colab": {
          "base_uri": "https://localhost:8080/"
        },
        "id": "0vlDNo4rJdIB",
        "outputId": "57451cf1-aa05-48f9-ee73-e9e541c45bbd"
      },
      "execution_count": 57,
      "outputs": [
        {
          "output_type": "stream",
          "name": "stdout",
          "text": [
            "Carlos Javier De La Torre R. Taller Python ViveLab SENA\n",
            "=========================================\n",
            "CAPITULO DE CICLOS - CILCO FOR           \n",
            "=========================================\n",
            " Ingrese la Tabla de Multiplicar: 2\n",
            "Tabla de Multiplicar de :  2\n",
            "2 * 1 = 2\n",
            "2 * 2 = 4\n",
            "2 * 3 = 6\n",
            "2 * 4 = 8\n",
            "2 * 5 = 10\n",
            "2 * 6 = 12\n",
            "2 * 7 = 14\n",
            "2 * 8 = 16\n",
            "2 * 9 = 18\n",
            "2 * 10 = 20\n",
            "Fin del Ciclo FOR \n"
          ]
        }
      ]
    },
    {
      "cell_type": "code",
      "source": [
        "print(\"Carlos Javier De La Torre R. Taller Python ViveLab SENA\")\n",
        "print(\"=========================================\")\n",
        "print(\"CAPITULO DE CICLOS - CILCO FOR           \")\n",
        "print(\"=========================================\")\n",
        "frase=input(\" Ingrese la frase: \")\n",
        "vocales=\"aeiouAEIOU\"\n",
        "cuentavocales=0\n",
        "for i in frase:\n",
        "  if i in vocales:\n",
        "    cuentavocales+=1\n",
        "print(f\"El numero de Vocales de la Frase: {cuentavocales}\")\n",
        "print(\"Fin del Ciclo FOR \")"
      ],
      "metadata": {
        "colab": {
          "base_uri": "https://localhost:8080/"
        },
        "id": "RVvbay56LneR",
        "outputId": "0bc87943-dff3-45f8-e182-0add0702aac2"
      },
      "execution_count": 58,
      "outputs": [
        {
          "output_type": "stream",
          "name": "stdout",
          "text": [
            "Carlos Javier De La Torre R. Taller Python ViveLab SENA\n",
            "=========================================\n",
            "CAPITULO DE CICLOS - CILCO FOR           \n",
            "=========================================\n",
            " Ingrese la frase: Murcielago\n",
            "El numero de Vocales de la Frase: 5\n",
            "Fin del Ciclo FOR \n"
          ]
        }
      ]
    },
    {
      "cell_type": "code",
      "source": [
        "print(\"Carlos Javier De La Torre R. ...Taller Python ViveLab SENA... \")\n",
        "print(\"=======================================================================\")\n",
        "print(\"       Ejercicio de PROMEDIO DE ESTUDIANTE VIVELAB-SENA                \")\n",
        "print(\"=======================================================================\\n\")\n",
        "\n",
        "nombreEstudiante= input(\"Por favor ingrese El Nombre del Estudiante: \")\n",
        "print(\" Notas del Estudiante \")\n",
        "print()\n",
        "numPeriodos=int(input(\"Por favor ingrese el numero de Periodos: \"))\n",
        "for materias in range(numPeriodos):\n",
        "  matematicas=float(input(\"Por favor ingrese la Nota de Matematicas: \"))\n",
        "  ciencias=float(input(\"Por favor ingrese la Nota de Ciencias...: \"))\n",
        "  geografia=float(input(\"Por favor ingrese la Nota de Geografia..: \"))\n",
        "  informatica=float(input(\"Por favor ingrese la Nota de Informatica: \"))\n",
        "  print()\n",
        "  promedio=(matematicas+ciencias+geografia+informatica)/4\n",
        "\n",
        "print(\"Nota Final :\", round(promedio),2)\n",
        "\n",
        "exit\n"
      ],
      "metadata": {
        "colab": {
          "base_uri": "https://localhost:8080/"
        },
        "id": "ffoKkkrQM8q4",
        "outputId": "e329948b-6d26-45bf-e3df-88768223dd30"
      },
      "execution_count": 78,
      "outputs": [
        {
          "output_type": "stream",
          "name": "stdout",
          "text": [
            "Carlos Javier De La Torre R. ...Taller Python ViveLab SENA... \n",
            "=======================================================================\n",
            "       Ejercicio de PROMEDIO DE ESTUDIANTE VIVELAB-SENA                \n",
            "=======================================================================\n",
            "\n",
            "Por favor ingrese El Nombre del Estudiante: cj\n",
            " Notas del Estudiante \n",
            "\n",
            "Por favor ingrese el numero de Periodos: 1\n",
            "Por favor ingrese la Nota de Matematicas: 5\n",
            "Por favor ingrese la Nota de Ciencias...: 3.5\n",
            "Por favor ingrese la Nota de Geografia..: 4.5\n",
            "Por favor ingrese la Nota de Informatica: 3.5\n",
            "\n",
            "Nota Final : 4 2\n"
          ]
        },
        {
          "output_type": "execute_result",
          "data": {
            "text/plain": [
              "<IPython.core.autocall.ZMQExitAutocall at 0x7f1c38e8a370>"
            ]
          },
          "metadata": {},
          "execution_count": 78
        }
      ]
    },
    {
      "cell_type": "code",
      "source": [
        "print(\"Carlos Javier De La Torre R. ...Taller Python ViveLab SENA... \")\n",
        "print(\"==============================================================\")\n",
        "print(\"       Ejercicio de FACTURA DE PRODUCTOS                      \")\n",
        "print(\"============================================================\\n\")\n",
        "\n",
        "numproducto=int(input(\"Por favor ingrese el numero de Productos: \"))\n",
        "contador=0\n",
        "sumaProducto=0\n",
        "for i in range(1,numproducto+1):\n",
        "  print(\"Datos Productos\")\n",
        "  producto=input(\"Por favor ingrese el Producto: \")\n",
        "  precio=float(input(\"Ingrese el Precio: \"))\n",
        "  cantidad=int(input(\"Ingrese Csantidad: \"))\n",
        "\n",
        "  valorProducto=precio*cantidad\n",
        "  sumaProducto=sumaProducto+valorProducto\n",
        "  contador=contador+1\n",
        "iva=0.19*sumaProducto\n",
        "valorFactura=sumaProducto+iva\n",
        "print(f\"Valor a pagar por Caja ${valorFactura}\")\n",
        "print()\n",
        "pago=float(input(\"Ingrese el vslor a pagar por caja: \"))\n",
        "if pago >= valorFactura:\n",
        "  cambio=pago-valorFactura\n",
        "  print(f\"SubTotal............................$ {sumaProducto}\")\n",
        "  print(f\"El valor del IVA es.................$ {iva}\")\n",
        "  print(f\"El valor Total de La Factura es.....$ {valorFactura}\")\n",
        "  print()\n",
        "  print(f\"El valor de Cambio a favor del Cliente.....$ {cambio}\")\n",
        "else:\n",
        "  print(\"Revise el pago falta dinero\")\n"
      ],
      "metadata": {
        "colab": {
          "base_uri": "https://localhost:8080/"
        },
        "id": "Ln8eI7lXeNnd",
        "outputId": "e7e0fd79-e58a-4ba7-97fb-7250d91e8870"
      },
      "execution_count": 86,
      "outputs": [
        {
          "output_type": "stream",
          "name": "stdout",
          "text": [
            "Carlos Javier De La Torre R. ...Taller Python ViveLab SENA... \n",
            "=======================================================================\n",
            "       Ejercicio de PROMEDIO DE ESTUDIANTE VIVELAB-SENA                \n",
            "=======================================================================\n",
            "\n",
            "Por favor ingrese el numero de Productos: 2\n",
            "Datos Productos\n",
            "Por favor ingrese el Producto: Dubonet\n",
            "Ingrese el Precio: 60000\n",
            "Ingrese Csantidad: 2\n",
            "Datos Productos\n",
            "Por favor ingrese el Producto: OldParr\n",
            "Ingrese el Precio: 190000\n",
            "Ingrese Csantidad: 2\n",
            "Valor a pagar por Caja $595000.0\n",
            "\n",
            "Ingrese el vslor a pagar por caja: 600000\n",
            "SubTotal............................$ 500000.0\n",
            "El valor del IVA es.................$ 95000.0\n",
            "El valor Total de La Factura es.....$ 595000.0\n",
            "\n",
            "El valor de Cambio a favor del Cliente.....$ 5000.0\n"
          ]
        }
      ]
    },
    {
      "cell_type": "code",
      "source": [
        "print(\"Carlos Javier De La Torre R. ...Taller Python ViveLab SENA... \")\n",
        "print(\"==============================================================\")\n",
        "print(\"       Ejercicio de CICLO WHILE                               \")\n",
        "print(\"============================================================\\n\")\n",
        "print()\n",
        "i=1\n",
        "while i<=3:\n",
        "  print(i)\n",
        "  i+=1\n",
        "print(\"Programa Terminado\")"
      ],
      "metadata": {
        "colab": {
          "base_uri": "https://localhost:8080/"
        },
        "id": "OYPiHbM6nJT0",
        "outputId": "90e63a37-f49e-490d-c894-42313b589e7c"
      },
      "execution_count": 87,
      "outputs": [
        {
          "output_type": "stream",
          "name": "stdout",
          "text": [
            "Carlos Javier De La Torre R. ...Taller Python ViveLab SENA... \n",
            "==============================================================\n",
            "       Ejercicio de CICLO WHILE                               \n",
            "============================================================\n",
            "\n",
            "\n",
            "1\n",
            "2\n",
            "3\n",
            "Programa Terminado\n"
          ]
        }
      ]
    },
    {
      "cell_type": "code",
      "source": [
        "print(\"Carlos Javier De La Torre R. ...Taller Python ViveLab SENA... \")\n",
        "print(\"==============================================================\")\n",
        "print(\"       Ejercicio de CICLO WHILE                               \")\n",
        "print(\"============================================================\\n\")\n",
        "print()\n",
        "num=0\n",
        "while num<=10:\n",
        "  print(f\"El numero es...{num}\")\n",
        "  num+=1\n",
        "print(\"Programa Terminado\")"
      ],
      "metadata": {
        "colab": {
          "base_uri": "https://localhost:8080/"
        },
        "id": "Pd8tLIkooE-s",
        "outputId": "27552ac5-aad2-46fc-b0a2-a8007558e261"
      },
      "execution_count": 88,
      "outputs": [
        {
          "output_type": "stream",
          "name": "stdout",
          "text": [
            "Carlos Javier De La Torre R. ...Taller Python ViveLab SENA... \n",
            "==============================================================\n",
            "       Ejercicio de CICLO WHILE                               \n",
            "============================================================\n",
            "\n",
            "\n",
            "El numero es...0\n",
            "El numero es...1\n",
            "El numero es...2\n",
            "El numero es...3\n",
            "El numero es...4\n",
            "El numero es...5\n",
            "El numero es...6\n",
            "El numero es...7\n",
            "El numero es...8\n",
            "El numero es...9\n",
            "El numero es...10\n",
            "Programa Terminado\n"
          ]
        }
      ]
    },
    {
      "cell_type": "code",
      "source": [
        "print(\"Carlos Javier De La Torre R. ...Taller Python ViveLab SENA... \")\n",
        "print(\"==============================================================\")\n",
        "print(\"       Ejercicio de CICLO WHILE                               \")\n",
        "print(\"============================================================\\n\")\n",
        "print()\n",
        "clave=\"python\"\n",
        "oportunidad=1\n",
        "while oportunidad<=3:\n",
        "  contra=input(\"Por favor ingrese su contraseña: \")\n",
        "  if contra==clave:\n",
        "    print(\"La clave es correcta\")\n",
        "    print(\"============================\")\n",
        "    valida=True\n",
        "    break\n",
        "  elif contra != clave:\n",
        "    print(\"Clave Incorrecta\")\n",
        "    print(\"============================\")\n",
        "    valida=False\n",
        "    oportunidad+=1\n",
        "if valida==True:\n",
        "  print(\"Puede ingresar al Sistema\")\n",
        "\n",
        "else:\n",
        "  print(\"Ya supero los intentos... vuelva a intentarlo en tres dias...\")\n",
        "\n",
        "print(\"Programa Terminado\")"
      ],
      "metadata": {
        "colab": {
          "base_uri": "https://localhost:8080/"
        },
        "id": "ZxG41l5zpCBC",
        "outputId": "8b98070c-6da1-4cd9-89f2-8289e8f0b452"
      },
      "execution_count": 94,
      "outputs": [
        {
          "output_type": "stream",
          "name": "stdout",
          "text": [
            "Carlos Javier De La Torre R. ...Taller Python ViveLab SENA... \n",
            "==============================================================\n",
            "       Ejercicio de CICLO WHILE                               \n",
            "============================================================\n",
            "\n",
            "\n",
            "Por favor ingrese su contraseña: 777\n",
            "Clave Incorrecta\n",
            "============================\n",
            "Por favor ingrese su contraseña: 888\n",
            "Clave Incorrecta\n",
            "============================\n",
            "Por favor ingrese su contraseña: 999\n",
            "Clave Incorrecta\n",
            "============================\n",
            "Ya supero los intentos... vuelva a intentarlo en tres dias...\n",
            "Programa Terminado\n"
          ]
        }
      ]
    }
  ],
  "metadata": {
    "colab": {
      "provenance": [],
      "authorship_tag": "ABX9TyMX5lyoEDszqp2fIzpEZ6hy",
      "include_colab_link": true
    },
    "kernelspec": {
      "display_name": "Python 3",
      "name": "python3"
    },
    "language_info": {
      "name": "python"
    }
  },
  "nbformat": 4,
  "nbformat_minor": 0
}